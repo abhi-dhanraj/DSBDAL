{
 "cells": [
  {
   "cell_type": "code",
   "execution_count": 1,
   "metadata": {},
   "outputs": [],
   "source": [
    "'''\n",
    "Data Wrangling II\n",
    "Create an “Academic performance” dataset of students and perform the following operations using Python.\n",
    "1. Scan all variables for missing values and inconsistencies. If there are missing values and/or inconsistencies, use any of the suitable techniques to deal with them.\n",
    "2. Scan all numeric variables for outliers. If there are outliers, use any of the suitable techniques to deal with them.\n",
    "3. Apply data transformations on at least one of the variables. The purpose of this transformation should be one of the following reasons: to change the scale for better understanding of the variable, to convert a non-linear relation into a linear one, or to decrease the skewness and convert the distribution into a normal distribution.\n",
    "Reason and document your approach properly.\n",
    "'''\n",
    "import pandas as pd\n",
    "import numpy as np\n",
    "import random\n",
    "from scipy.stats import norm\n",
    "import matplotlib.pyplot as plt\n",
    "random.seed(1)"
   ]
  },
  {
   "cell_type": "markdown",
   "metadata": {},
   "source": [
    "# Creating Dataset"
   ]
  },
  {
   "cell_type": "code",
   "execution_count": 2,
   "metadata": {},
   "outputs": [
    {
     "data": {
      "text/html": [
       "<div>\n",
       "<style scoped>\n",
       "    .dataframe tbody tr th:only-of-type {\n",
       "        vertical-align: middle;\n",
       "    }\n",
       "\n",
       "    .dataframe tbody tr th {\n",
       "        vertical-align: top;\n",
       "    }\n",
       "\n",
       "    .dataframe thead th {\n",
       "        text-align: right;\n",
       "    }\n",
       "</style>\n",
       "<table border=\"1\" class=\"dataframe\">\n",
       "  <thead>\n",
       "    <tr style=\"text-align: right;\">\n",
       "      <th></th>\n",
       "      <th>class</th>\n",
       "      <th>gender</th>\n",
       "      <th>dsa</th>\n",
       "      <th>os</th>\n",
       "      <th>cn</th>\n",
       "      <th>dbms</th>\n",
       "      <th>oop</th>\n",
       "    </tr>\n",
       "  </thead>\n",
       "  <tbody>\n",
       "    <tr>\n",
       "      <th>0</th>\n",
       "      <td>TE-1</td>\n",
       "      <td>F</td>\n",
       "      <td>51.0</td>\n",
       "      <td>25.0</td>\n",
       "      <td>79.0</td>\n",
       "      <td>34.0</td>\n",
       "      <td>86.0</td>\n",
       "    </tr>\n",
       "    <tr>\n",
       "      <th>1</th>\n",
       "      <td>TE-2</td>\n",
       "      <td>M</td>\n",
       "      <td>212.0</td>\n",
       "      <td>214.0</td>\n",
       "      <td>177.0</td>\n",
       "      <td>199.0</td>\n",
       "      <td>155.0</td>\n",
       "    </tr>\n",
       "    <tr>\n",
       "      <th>2</th>\n",
       "      <td>TE-3</td>\n",
       "      <td>M</td>\n",
       "      <td>68.0</td>\n",
       "      <td>52.0</td>\n",
       "      <td>17.0</td>\n",
       "      <td>21.0</td>\n",
       "      <td>93.0</td>\n",
       "    </tr>\n",
       "    <tr>\n",
       "      <th>3</th>\n",
       "      <td>TE-4</td>\n",
       "      <td>F</td>\n",
       "      <td>67.0</td>\n",
       "      <td>86.0</td>\n",
       "      <td>48.0</td>\n",
       "      <td>59.0</td>\n",
       "      <td>70.0</td>\n",
       "    </tr>\n",
       "    <tr>\n",
       "      <th>4</th>\n",
       "      <td>TE-4</td>\n",
       "      <td>M</td>\n",
       "      <td>98.0</td>\n",
       "      <td>42.0</td>\n",
       "      <td>8.0</td>\n",
       "      <td>81.0</td>\n",
       "      <td>100.0</td>\n",
       "    </tr>\n",
       "    <tr>\n",
       "      <th>...</th>\n",
       "      <td>...</td>\n",
       "      <td>...</td>\n",
       "      <td>...</td>\n",
       "      <td>...</td>\n",
       "      <td>...</td>\n",
       "      <td>...</td>\n",
       "      <td>...</td>\n",
       "    </tr>\n",
       "    <tr>\n",
       "      <th>2995</th>\n",
       "      <td>TE-4</td>\n",
       "      <td>M</td>\n",
       "      <td>67.0</td>\n",
       "      <td>19.0</td>\n",
       "      <td>47.0</td>\n",
       "      <td>8.0</td>\n",
       "      <td>16.0</td>\n",
       "    </tr>\n",
       "    <tr>\n",
       "      <th>2996</th>\n",
       "      <td>TE-3</td>\n",
       "      <td>M</td>\n",
       "      <td>23.0</td>\n",
       "      <td>15.0</td>\n",
       "      <td>9.0</td>\n",
       "      <td>65.0</td>\n",
       "      <td>NaN</td>\n",
       "    </tr>\n",
       "    <tr>\n",
       "      <th>2997</th>\n",
       "      <td>TE-3</td>\n",
       "      <td>F</td>\n",
       "      <td>87.0</td>\n",
       "      <td>81.0</td>\n",
       "      <td>64.0</td>\n",
       "      <td>59.0</td>\n",
       "      <td>95.0</td>\n",
       "    </tr>\n",
       "    <tr>\n",
       "      <th>2998</th>\n",
       "      <td>TE-3</td>\n",
       "      <td>M</td>\n",
       "      <td>148.0</td>\n",
       "      <td>241.0</td>\n",
       "      <td>169.0</td>\n",
       "      <td>234.0</td>\n",
       "      <td>111.0</td>\n",
       "    </tr>\n",
       "    <tr>\n",
       "      <th>2999</th>\n",
       "      <td>TE-4</td>\n",
       "      <td>M</td>\n",
       "      <td>9.0</td>\n",
       "      <td>NaN</td>\n",
       "      <td>65.0</td>\n",
       "      <td>82.0</td>\n",
       "      <td>65.0</td>\n",
       "    </tr>\n",
       "  </tbody>\n",
       "</table>\n",
       "<p>3000 rows × 7 columns</p>\n",
       "</div>"
      ],
      "text/plain": [
       "     class gender    dsa     os     cn   dbms    oop\n",
       "0     TE-1      F   51.0   25.0   79.0   34.0   86.0\n",
       "1     TE-2      M  212.0  214.0  177.0  199.0  155.0\n",
       "2     TE-3      M   68.0   52.0   17.0   21.0   93.0\n",
       "3     TE-4      F   67.0   86.0   48.0   59.0   70.0\n",
       "4     TE-4      M   98.0   42.0    8.0   81.0  100.0\n",
       "...    ...    ...    ...    ...    ...    ...    ...\n",
       "2995  TE-4      M   67.0   19.0   47.0    8.0   16.0\n",
       "2996  TE-3      M   23.0   15.0    9.0   65.0    NaN\n",
       "2997  TE-3      F   87.0   81.0   64.0   59.0   95.0\n",
       "2998  TE-3      M  148.0  241.0  169.0  234.0  111.0\n",
       "2999  TE-4      M    9.0    NaN   65.0   82.0   65.0\n",
       "\n",
       "[3000 rows x 7 columns]"
      ]
     },
     "execution_count": 2,
     "metadata": {},
     "output_type": "execute_result"
    }
   ],
   "source": [
    "dsa = [random.randint(0,100) for i in range(2500)]\n",
    "cn = [random.randint(0,100) for i in range(2500)]\n",
    "os = [random.randint(0,100) for i in range(2500)]\n",
    "oop = [random.randint(0,100) for i in range(2500)]\n",
    "dbms = [random.randint(0,100) for i in range(2500)]\n",
    "\n",
    "for i in range(500):\n",
    "    r = random.randint(101,250)\n",
    "    dsa.append(r)\n",
    "    r = random.randint(101,250)\n",
    "    cn.append(r)\n",
    "    r = random.randint(101,250)\n",
    "    os.append(r)\n",
    "    r = random.randint(101,250)\n",
    "    oop.append(r)\n",
    "    r = random.randint(101,250)\n",
    "    dbms.append(r)\n",
    "\n",
    "g = ['M','F']\n",
    "gender = [g[random.randint(0,1)] for i in range(3000)]\n",
    "\n",
    "div = ['TE-1','TE-2','TE-3','TE-4']\n",
    "Class = [div[random.randint(0,3)] for i in range(3000)]\n",
    "\n",
    "for i in range(100):\n",
    "    r = random.randint(0,2999)\n",
    "    dsa[r] = np.nan\n",
    "    r = random.randint(0,2999)\n",
    "    cn[r] = np.nan\n",
    "    r = random.randint(0,2999)\n",
    "    oop[r] = np.nan\n",
    "    r = random.randint(0,2999)\n",
    "    os[r] = np.nan\n",
    "    r = random.randint(0,2999)\n",
    "    dbms[r] = np.nan\n",
    "\n",
    "data = {\"class\":Class,\"gender\": gender,\"dsa\":dsa,\"os\":os,\"cn\":cn,\"dbms\":dbms,\"oop\":oop}\n",
    "df = pd.DataFrame(data)\n",
    "df.sample(frac =1).reset_index(drop=1)"
   ]
  },
  {
   "cell_type": "code",
   "execution_count": 3,
   "metadata": {},
   "outputs": [
    {
     "data": {
      "text/html": [
       "<div>\n",
       "<style scoped>\n",
       "    .dataframe tbody tr th:only-of-type {\n",
       "        vertical-align: middle;\n",
       "    }\n",
       "\n",
       "    .dataframe tbody tr th {\n",
       "        vertical-align: top;\n",
       "    }\n",
       "\n",
       "    .dataframe thead th {\n",
       "        text-align: right;\n",
       "    }\n",
       "</style>\n",
       "<table border=\"1\" class=\"dataframe\">\n",
       "  <thead>\n",
       "    <tr style=\"text-align: right;\">\n",
       "      <th></th>\n",
       "      <th>dsa</th>\n",
       "      <th>os</th>\n",
       "      <th>cn</th>\n",
       "      <th>dbms</th>\n",
       "      <th>oop</th>\n",
       "    </tr>\n",
       "  </thead>\n",
       "  <tbody>\n",
       "    <tr>\n",
       "      <th>count</th>\n",
       "      <td>2900.000000</td>\n",
       "      <td>2903.000000</td>\n",
       "      <td>2902.000000</td>\n",
       "      <td>2901.000000</td>\n",
       "      <td>2901.000000</td>\n",
       "    </tr>\n",
       "    <tr>\n",
       "      <th>mean</th>\n",
       "      <td>71.122759</td>\n",
       "      <td>70.158112</td>\n",
       "      <td>70.355272</td>\n",
       "      <td>70.444674</td>\n",
       "      <td>70.846949</td>\n",
       "    </tr>\n",
       "    <tr>\n",
       "      <th>std</th>\n",
       "      <td>55.850872</td>\n",
       "      <td>56.133383</td>\n",
       "      <td>56.523367</td>\n",
       "      <td>55.518864</td>\n",
       "      <td>55.485071</td>\n",
       "    </tr>\n",
       "    <tr>\n",
       "      <th>min</th>\n",
       "      <td>0.000000</td>\n",
       "      <td>0.000000</td>\n",
       "      <td>0.000000</td>\n",
       "      <td>0.000000</td>\n",
       "      <td>0.000000</td>\n",
       "    </tr>\n",
       "    <tr>\n",
       "      <th>25%</th>\n",
       "      <td>31.000000</td>\n",
       "      <td>29.000000</td>\n",
       "      <td>29.250000</td>\n",
       "      <td>29.000000</td>\n",
       "      <td>30.000000</td>\n",
       "    </tr>\n",
       "    <tr>\n",
       "      <th>50%</th>\n",
       "      <td>62.000000</td>\n",
       "      <td>58.000000</td>\n",
       "      <td>59.000000</td>\n",
       "      <td>60.000000</td>\n",
       "      <td>61.000000</td>\n",
       "    </tr>\n",
       "    <tr>\n",
       "      <th>75%</th>\n",
       "      <td>91.000000</td>\n",
       "      <td>90.000000</td>\n",
       "      <td>90.000000</td>\n",
       "      <td>91.000000</td>\n",
       "      <td>90.000000</td>\n",
       "    </tr>\n",
       "    <tr>\n",
       "      <th>max</th>\n",
       "      <td>250.000000</td>\n",
       "      <td>250.000000</td>\n",
       "      <td>250.000000</td>\n",
       "      <td>250.000000</td>\n",
       "      <td>250.000000</td>\n",
       "    </tr>\n",
       "  </tbody>\n",
       "</table>\n",
       "</div>"
      ],
      "text/plain": [
       "               dsa           os           cn         dbms          oop\n",
       "count  2900.000000  2903.000000  2902.000000  2901.000000  2901.000000\n",
       "mean     71.122759    70.158112    70.355272    70.444674    70.846949\n",
       "std      55.850872    56.133383    56.523367    55.518864    55.485071\n",
       "min       0.000000     0.000000     0.000000     0.000000     0.000000\n",
       "25%      31.000000    29.000000    29.250000    29.000000    30.000000\n",
       "50%      62.000000    58.000000    59.000000    60.000000    61.000000\n",
       "75%      91.000000    90.000000    90.000000    91.000000    90.000000\n",
       "max     250.000000   250.000000   250.000000   250.000000   250.000000"
      ]
     },
     "execution_count": 3,
     "metadata": {},
     "output_type": "execute_result"
    }
   ],
   "source": [
    "df.describe()\n"
   ]
  },
  {
   "cell_type": "code",
   "execution_count": 4,
   "metadata": {},
   "outputs": [
    {
     "name": "stderr",
     "output_type": "stream",
     "text": [
      "C:\\Users\\ABHISH~1\\AppData\\Local\\Temp/ipykernel_34828/1665899112.py:1: FutureWarning: Dropping of nuisance columns in DataFrame reductions (with 'numeric_only=None') is deprecated; in a future version this will raise TypeError.  Select only valid columns before calling the reduction.\n",
      "  df.skew()\n"
     ]
    },
    {
     "data": {
      "text/plain": [
       "dsa     1.288427\n",
       "os      1.327150\n",
       "cn      1.325988\n",
       "dbms    1.254050\n",
       "oop     1.277132\n",
       "dtype: float64"
      ]
     },
     "execution_count": 4,
     "metadata": {},
     "output_type": "execute_result"
    }
   ],
   "source": [
    "df.skew()"
   ]
  },
  {
   "cell_type": "code",
   "execution_count": 5,
   "metadata": {},
   "outputs": [
    {
     "data": {
      "text/plain": [
       "<AxesSubplot:>"
      ]
     },
     "execution_count": 5,
     "metadata": {},
     "output_type": "execute_result"
    },
    {
     "data": {
      "image/png": "[encoded data removed]",
      "text/plain": [
       "<Figure size 432x288 with 1 Axes>"
      ]
     },
     "metadata": {
      "needs_background": "light"
     },
     "output_type": "display_data"
    }
   ],
   "source": [
    "\n",
    "# df.skew()\n",
    "\n",
    "df.boxplot()\n",
    "\n",
    "\n",
    "# plt.plot(df.dsa, norm.pdf(df.dsa, df.dsa.mean(), df.dsa.std()))\n",
    "# plt.show()"
   ]
  },
  {
   "cell_type": "code",
   "execution_count": 6,
   "metadata": {},
   "outputs": [
    {
     "data": {
      "image/png": "[encoded data removed]",
      "text/plain": [
       "<Figure size 720x720 with 1 Axes>"
      ]
     },
     "metadata": {
      "needs_background": "light"
     },
     "output_type": "display_data"
    }
   ],
   "source": [
    "df[\"percentage\"] = df[\"oop\"]+df[\"os\"]+df[\"dsa\"]+df[\"cn\"]+df[\"dbms\"]\n",
    "df[\"percentage\"] = df[\"percentage\"]/5\n",
    "\n",
    "plt.figure(figsize=(10,10))\n",
    "plt.hist(df.percentage)\n",
    "plt.show()"
   ]
  },
  {
   "cell_type": "code",
   "execution_count": 7,
   "metadata": {},
   "outputs": [
    {
     "name": "stderr",
     "output_type": "stream",
     "text": [
      "C:\\Users\\ABHISH~1\\AppData\\Local\\Temp/ipykernel_34828/1262594857.py:13: FutureWarning: Dropping of nuisance columns in DataFrame reductions (with 'numeric_only=None') is deprecated; in a future version this will raise TypeError.  Select only valid columns before calling the reduction.\n",
      "  df.skew()\n"
     ]
    },
    {
     "data": {
      "text/plain": [
       "dsa          -0.029864\n",
       "os            0.040753\n",
       "cn            0.023661\n",
       "dbms          0.001120\n",
       "oop          -0.034010\n",
       "percentage    0.043580\n",
       "dtype: float64"
      ]
     },
     "execution_count": 7,
     "metadata": {},
     "output_type": "execute_result"
    }
   ],
   "source": [
    "for col in df.select_dtypes(include = \"number\"):\n",
    "    outliers = df[df[col] > 100].index\n",
    "    df.drop(outliers,inplace = True)\n",
    "\n",
    "df.isnull().sum()\n",
    "for col in df.select_dtypes(include = \"number\"):\n",
    "    df[col].fillna(df[col].mean(),inplace = True)\n",
    "\n",
    "df[\"percentage\"] = df[\"oop\"]+df[\"os\"]+df[\"dsa\"]+df[\"cn\"]+df[\"dbms\"]\n",
    "df[\"percentage\"] = df[\"percentage\"]/5\n",
    "\n",
    "df.describe()\n",
    "df.skew()"
   ]
  },
  {
   "cell_type": "code",
   "execution_count": 8,
   "metadata": {},
   "outputs": [
    {
     "data": {
      "image/png": "[encoded data removed]",
      "text/plain": [
       "<Figure size 720x1440 with 1 Axes>"
      ]
     },
     "metadata": {
      "needs_background": "light"
     },
     "output_type": "display_data"
    }
   ],
   "source": [
    "# df.boxplot()\n",
    "plt.figure(figsize=(10,20))\n",
    "plt.hist(df.percentage)\n",
    "plt.show()\n",
    "\n"
   ]
  },
  {
   "cell_type": "code",
   "execution_count": 9,
   "metadata": {},
   "outputs": [
    {
     "data": {
      "image/png": "[encoded data removed]",
      "text/plain": [
       "<Figure size 720x1440 with 1 Axes>"
      ]
     },
     "metadata": {
      "needs_background": "light"
     },
     "output_type": "display_data"
    }
   ],
   "source": [
    "from sklearn.preprocessing import MinMaxScaler\n",
    "scaler = MinMaxScaler()\n",
    "df_numeric = df.select_dtypes(include='number')\n",
    "scaler.fit(df_numeric)\n",
    "x_scaled = scaler.transform(df_numeric)\n",
    "df[df_numeric.columns]  = x_scaled\n",
    "\n",
    "df[\"percentage\"] = df[\"oop\"]+df[\"os\"]+df[\"dsa\"]+df[\"cn\"]+df[\"dbms\"]\n",
    "df[\"percentage\"] = df[\"percentage\"]/5\n",
    "\n",
    "plt.figure(figsize=(10,20))\n",
    "plt.hist(df.percentage)\n",
    "plt.show()\n",
    "# plt.plot(df.dsa, norm.pdf(df.dsa, df.dsa.mean(), df.dsa.std()))\n",
    "# plt.show()"
   ]
  },
  {
   "cell_type": "code",
   "execution_count": 10,
   "metadata": {},
   "outputs": [
    {
     "name": "stdout",
     "output_type": "stream",
     "text": [
      "       dsa    os    cn  dbms       oop  percentage  class_TE-1  class_TE-2  \\\n",
      "0     0.17  0.12  0.65  0.30  0.000000    0.248000           0           0   \n",
      "1     0.72  0.32  0.56  0.57  0.830000    0.600000           0           0   \n",
      "2     0.97  0.20  0.26  0.15  0.840000    0.484000           1           0   \n",
      "3     0.08  0.76  0.89  0.08  0.800000    0.522000           0           0   \n",
      "4     0.32  0.89  0.60  0.27  0.130000    0.442000           1           0   \n",
      "...    ...   ...   ...   ...       ...         ...         ...         ...   \n",
      "2495  1.00  0.08  0.38  0.98  0.506142    0.589228           0           1   \n",
      "2496  0.58  0.48  0.00  0.62  0.510000    0.438000           0           0   \n",
      "2497  0.58  0.97  0.93  1.00  0.340000    0.764000           0           0   \n",
      "2498  0.45  0.32  0.48  0.59  0.530000    0.474000           0           0   \n",
      "2499  0.29  1.00  0.43  0.76  0.950000    0.686000           1           0   \n",
      "\n",
      "      class_TE-3  class_TE-4  gender_F  gender_M  \n",
      "0              0           1         1         0  \n",
      "1              0           1         1         0  \n",
      "2              0           0         0         1  \n",
      "3              0           1         0         1  \n",
      "4              0           0         1         0  \n",
      "...          ...         ...       ...       ...  \n",
      "2495           0           0         0         1  \n",
      "2496           1           0         0         1  \n",
      "2497           0           1         0         1  \n",
      "2498           0           1         0         1  \n",
      "2499           0           0         0         1  \n",
      "\n",
      "[2500 rows x 12 columns]\n"
     ]
    }
   ],
   "source": [
    "df = pd.get_dummies(df, columns=[\"class\",'gender'])\n",
    "print(df)"
   ]
  }
 ],
 "metadata": {
  "interpreter": {
   "hash": "137d421554ad110269f4d150d3abd56fcd68294c351f27406bc7f3458fa29488"
  },
  "kernelspec": {
   "display_name": "Python 3.8.0 32-bit",
   "language": "python",
   "name": "python3"
  },
  "language_info": {
   "codemirror_mode": {
    "name": "ipython",
    "version": 3
   },
   "file_extension": ".py",
   "mimetype": "text/x-python",
   "name": "python",
   "nbconvert_exporter": "python",
   "pygments_lexer": "ipython3",
   "version": "3.8.0"
  },
  "orig_nbformat": 4
 },
 "nbformat": 4,
 "nbformat_minor": 2
}
